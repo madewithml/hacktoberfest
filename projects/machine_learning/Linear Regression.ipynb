{
 "cells": [
  {
   "cell_type": "markdown",
   "metadata": {},
   "source": [
    "# Linear Regression Tutorial "
   ]
  },
  {
   "cell_type": "markdown",
   "metadata": {},
   "source": [
    "## What is Linear Regression??\n",
    "\n",
    "Linear Regression is a mathematical technique in which the input features(independent variables ) are mapped to the given \n",
    "outputs(dependent variable) using a linear mathematical function.This linear function is then used for predicting the outputs for given input features.Linear regression performs the task to predict a dependent variable value (y) based on a given independent variable (x).\n",
    "\n",
    "We would divide our regression task into following discrete steps:\n",
    "<ol>\n",
    "    <li>Data\n",
    "    <li>Model\n",
    "    <li>Loss\n",
    "    <li>learning\n",
    "    <li>Evaluation\n"
   ]
  },
  {
   "cell_type": "markdown",
   "metadata": {},
   "source": [
    "## <li>Loading Data"
   ]
  },
  {
   "cell_type": "code",
   "execution_count": 1,
   "metadata": {},
   "outputs": [],
   "source": [
    "import matplotlib.pyplot as plt\n",
    "import numpy as np\n",
    "from sklearn.datasets import make_regression\n",
    "from sklearn import linear_model,metrics"
   ]
  },
  {
   "cell_type": "markdown",
   "metadata": {},
   "source": [
    "### Example\n",
    "\n",
    "We use features $\\mathbf{x}$ to predict a \"response\" $y$. For example we might want to map house_features onto house_price in other words we predict house_price from features of house.\n",
    "\n",
    "Let's generate some sklearn data for this case and examine the relationship between $\\mathbf{x}$(house_feature) and $y$(house_price)."
   ]
  },
  {
   "cell_type": "code",
   "execution_count": 18,
   "metadata": {},
   "outputs": [
    {
     "name": "stdout",
     "output_type": "stream",
     "text": [
      "X= [[-1.34677961]\n",
      " [-0.15768217]\n",
      " [ 1.95405889]] \n",
      " y= [-219.20568626 -212.70382268 -206.2019591 ]\n"
     ]
    },
    {
     "data": {
      "image/png": "[encoded data removed]",
      "text/plain": [
       "<Figure size 432x288 with 1 Axes>"
      ]
     },
     "metadata": {
      "needs_background": "light"
     },
     "output_type": "display_data"
    }
   ],
   "source": [
    "#Loading and visualizing the data \n",
    "X , Y = make_regression(n_samples=60,n_features=1,bias=0.0,n_targets=1)\n",
    "print('X=',X[0:3],'\\n','y=',y[0:3])\n",
    "plt.scatter(X, Y)\n",
    "plt.xlabel('house_size')\n",
    "plt.ylabel('house_price')\n",
    "plt.show()"
   ]
  },
  {
   "cell_type": "markdown",
   "metadata": {},
   "source": [
    "On Analyzing above scatter plot  we suspect that a linear line is the best fit for the data points.\n",
    "We will now build a linear model to fit this data"
   ]
  },
  {
   "cell_type": "markdown",
   "metadata": {},
   "source": [
    "## <li>Linear Model\n",
    "To describe the supervised learning problem slightly more formally, our goal is, given a training set, to learn a function h : X → Y so that h(x) is a “good” predictor for the corresponding value of y. This function h is called a hypothesis. Seen pictorially, the process is therefore like this:\n",
    "  \n",
    "<img src = \"https://d3c33hcgiwev3.cloudfront.net/imageAssetProxy.v1/H6qTdZmYEeaagxL7xdFKxA_2f0f671110e8f7446bb2b5b2f75a8874_Screenshot-2016-10-23-20.14.58.png?expiry=1602892800000&hmac=jrYdSIhbIq99eNTy71m1cMRII3sZ8-MB3ArBkNUh8Bo\">\n",
    "\n",
    "#### Hypothesis:\n",
    "Hypothesis is the linear function that is used to fit the data points.We express this hypothesis in the univariate case as\n",
    "\n",
    " <img src = \"https://media.geeksforgeeks.org/wp-content/uploads/linear-regression-hypothesis.jpg\">\n",
    "\n",
    "Our simple example above was an example of \"univariate regression\" - i.e. just one variable (or \"feature\") - size of house.\n",
    "\n",
    "Here $\\theta_{2}$ is a vector of parameters to be learned, $\\theta_{1}$ is a bias term and $\\mathbf{X}$ is the \"design matrix\" with all the data points. In this formulation the intercept(bias) term is to be added to the design matrix as the first column (of all ones)."
   ]
  },
  {
   "cell_type": "markdown",
   "metadata": {},
   "source": [
    "#### Design Matrix:\n",
    "\n",
    "In general with $n$ data points and $p$ features our design matrix will have $n$ rows and $p$ columns.\n",
    "\n",
    "Returning to our housing prediction  regression example, let's add one more feature - number of hours slept the night before the exam. If we have 60 data points and 1 features, then our matrix will be of shape $60 \\times 2$ (remember we add a bias column). The first three rows  might look like\n",
    "\n",
    "$$\n",
    "\\begin{bmatrix}\n",
    "    1 & -0.85857665  \\\\\n",
    "    1 & -1.98210646  \\\\\n",
    "    1 &    0.18146281  \\\\\n",
    "\\end{bmatrix}\n",
    "$$\n",
    "We do not include the y values in the design matrix"
   ]
  },
  {
   "cell_type": "markdown",
   "metadata": {},
   "source": [
    "## <li>Cost function\n",
    "We can measure the accuracy of our hypothesis function by using a <b>cost function</b>.Cost function takes an average difference (actually a fancier version of an average) of all the results of the hypothesis with inputs from x's and the actual output y's.The mean is halved  as a convenience for the computation of the gradient descent, as the derivative term of the square function will cancel out the fraction term. \n",
    "\n",
    "$$J(\\theta{}) = \\frac{1}{2}\\sum(h(\\theta)-y)^2$$\n",
    "\n",
    "If we try to think of it in visual terms, our training data set is scattered on the x-y plane. We are trying to make a straight line (defined by hypothesis y) which passes through these scattered data points.\n",
    "Our objective is to get the best possible line. The best possible line will be such so that the average squared vertical distances of the scattered points from the line will be the least. Ideally, the line should pass through all the points of our training data set. In such a case, the value of cost function would be 0.The following image summarizes what the cost function does\n",
    "\n",
    "<img src = \"https://d3c33hcgiwev3.cloudfront.net/imageAssetProxy.v1/R2YF5Lj3EeajLxLfjQiSjg_110c901f58043f995a35b31431935290_Screen-Shot-2016-12-02-at-5.23.31-PM.png?expiry=1602892800000&hmac=yNTjY-fg0T8YgEZxlkHTXV5xjGEk7aZ3YAP-RrH-i18\">"
   ]
  },
  {
   "cell_type": "markdown",
   "metadata": {},
   "source": [
    "## Learning\n",
    "Once our model is ready, it has to learn the best parameters to get best linear line to fit the data.That is, for our example bias unit $\\theta_1$ and coeffecient $\\theta_2$ have to be adjusted such that the above squared errror is minimized.We use a optimization algorithm for this purpose which iteratively updates parameters by analyzing the performance of model(using loss) with respect to current parameters.In machine learning gradient descent algorithm is used to minimize the loss function\n",
    "#### Gradient Descent algorithm: \n",
    "Our loss function happens to be a convex function. So the \"loss surface\" (i.e. the map of the loss values over all the parameter values) has a nice convex shape like so:\n",
    "<img src=\"http://theinf2.informatik.uni-jena.de/theinf2_multimedia/bilder/lectures/convex-width-244-height-261.jpg\">\n",
    "\n",
    "So gradient descent algorithm updates parameters by  by iteratively moving in the direction of steepest descent as defined by the negative of the gradient.\n",
    "\n",
    "##### Gradient descent ituition:\n",
    "\n",
    "Consider the 3-dimensional graph below in the context of a cost function. Our goal is to move from the mountain in the top right corner (high cost) to the dark blue sea in the bottom left (low cost). The arrows represent the direction of steepest descent (negative gradient) from any given point–the direction that decreases the cost function as quickly as possible.\n",
    "\n",
    "<img src=\"https://ml-cheatsheet.readthedocs.io/en/latest/_images/gradient_descent.png\">\n",
    "\n",
    "Starting at the top of the mountain, we take our first step downhill in the direction specified by the negative gradient. Next we recalculate the negative gradient (passing in the coordinates of our new point) and take another step in the direction it specifies. We continue this process iteratively until we get to the bottom of our graph, or to a point where we can no longer move downhill–a local minimum\n",
    "\n",
    "<img src=\"https://ml-cheatsheet.readthedocs.io/en/latest/_images/gradient_descent_demystified.png\">\n",
    "\n",
    "For our example the gradient descent can be represented mathematically as follows:\n",
    "\n",
    "$\\theta_{1} = \\theta_{1} - \\alpha\\frac{dJ}{d\\theta_{1}}$\n",
    "\n",
    "$\\theta_{2} = \\theta_{2} - \\alpha\\frac{dJ}{d\\theta_{2}}$\n",
    "\n",
    "Here,\n",
    "<li>$\\alpha$ is a learning rate\n",
    "\n",
    "<li>$\\frac{dJ}{d\\theta_{1}}$ is the derivative of loss function w.r.t bias unit\n",
    "\n",
    "<li>$\\frac{dJ}{d\\theta_{2}}$ is the derivative of loss function w.r.t coefficient parameter\n"
   ]
  },
  {
   "cell_type": "markdown",
   "metadata": {},
   "source": [
    "## Fit Model\n",
    "Fitting the model really is the easy part, as far as coding is concerned. Data preparation is usually the most time consuming.\n",
    "\n",
    "You need to create a new instance of sklearn.linear_model.LinearRegression and use the fit() function to fit it to X using y. The documentation is here: http://scikit-learn.org/stable/modules/generated/sklearn.linear_model.LinearRegression.html"
   ]
  },
  {
   "cell_type": "code",
   "execution_count": 8,
   "metadata": {},
   "outputs": [
    {
     "name": "stdout",
     "output_type": "stream",
     "text": [
      "[54.80142156]\n",
      "-1.0658141036401503e-14\n"
     ]
    }
   ],
   "source": [
    "house_model = linear_model.LinearRegression(normalize=True)\n",
    "house_model.fit(X,y)\n",
    "a = house_model.coef_\n",
    "b = house_model.intercept_\n",
    "print(house_model.coef_)\n",
    "print(house_model.intercept_)"
   ]
  },
  {
   "cell_type": "code",
   "execution_count": 9,
   "metadata": {},
   "outputs": [
    {
     "data": {
      "image/png": "[encoded data removed]",
      "text/plain": [
       "<Figure size 432x288 with 1 Axes>"
      ]
     },
     "metadata": {
      "needs_background": "light"
     },
     "output_type": "display_data"
    }
   ],
   "source": [
    "# Visualize the results\n",
    "plt.scatter(X,y)\n",
    "x = np.linspace(-4, 3,60)\n",
    "y = a*x + b\n",
    "plt.plot(x, y,'r')\n",
    "plt.xlabel('num_hours_studied')\n",
    "plt.ylabel('exam_score')\n",
    "plt.show()"
   ]
  },
  {
   "cell_type": "markdown",
   "metadata": {},
   "source": [
    "So as observed in the above plot the line with coeffecient 17.48 and bias unit 1.7763568394002505e-15 is the best fit for the data distribution above \n",
    "The line fits pretty well using the eye, as it should, because the true function is linear and the data has just a little noise.\n",
    "\n",
    "But we need a mathematical way to define a good fit in order to find the optimal parameters for our hypothesis."
   ]
  },
  {
   "cell_type": "markdown",
   "metadata": {},
   "source": [
    "## <li>Evaluation(Assessing The goodness of fit)\n",
    "Let's now assess the performance of this fit using mean squared error. sklearn makes this easy to calculate, providing the sklearn.metric.mean_squared_error function - reference here http://scikit-learn.org/stable/modules/generated/sklearn.metrics.mean_squared_error.html\n",
    "    "
   ]
  },
  {
   "cell_type": "code",
   "execution_count": 24,
   "metadata": {},
   "outputs": [
    {
     "name": "stdout",
     "output_type": "stream",
     "text": [
      "15422.002444832808\n"
     ]
    }
   ],
   "source": [
    "train_pred = house_model.predict(X)\n",
    "mse_train = metrics.mean_squared_error(y, train_pred)\n",
    "print(mse_train)"
   ]
  },
  {
   "cell_type": "markdown",
   "metadata": {},
   "source": [
    "The on the basis of above metrics we can evaluate how good our model has done on the given dataset"
   ]
  },
  {
   "cell_type": "markdown",
   "metadata": {},
   "source": [
    "### Bias-Variance Tradeoff\n",
    "In statistical learning we have two important measures to trade-off: bias and variance.\n",
    "\n",
    "Suppose the real function we are trying to model (not directly available to us) is $f$. Our hypothesis gives us an estimate of this function, $\\hat{f} = h_\\theta$. How far $f$ is from $\\hat{f}$ is called bias.\n",
    "\n",
    "But since we don't have access to $f$ we use some data to make our estimate. But not all datasets will give us a clean view of $f$. There will be noise and incompleteness. This will introduce variance into our estimate: the amount to which we miss $f$ due to fitting noise in our dataset.\n",
    "\n",
    "The following picture shows various bias-variance regimes, assuming our function is aiming for a bulls-eye:\n",
    "<li>top-left: high bias, low variance\n",
    "<li>top-right: high bias, high variance\n",
    "<li>bottom-left: low bias, low variance\n",
    "<li>bottom-right: low bias, high variance</li>\n",
    "<img src=\"https://miro.medium.com/max/1000/1*feFntGUIiob7MwUX62jdCg.png\">"
   ]
  }
 ],
 "metadata": {
  "kernelspec": {
   "display_name": "Python 3",
   "language": "python",
   "name": "python3"
  },
  "language_info": {
   "codemirror_mode": {
    "name": "ipython",
    "version": 3
   },
   "file_extension": ".py",
   "mimetype": "text/x-python",
   "name": "python",
   "nbconvert_exporter": "python",
   "pygments_lexer": "ipython3",
   "version": "3.8.3"
  }
 },
 "nbformat": 4,
 "nbformat_minor": 4
}
