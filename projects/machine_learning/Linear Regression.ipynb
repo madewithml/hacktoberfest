{
 "cells": [
  {
   "cell_type": "code",
   "execution_count": 1,
   "metadata": {},
   "outputs": [],
   "source": [
    "import matplotlib.pyplot as plt\n",
    "from sklearn.datasets import make_regression\n",
    "import pandas as pd\n",
    "import numpy as np"
   ]
  },
  {
   "cell_type": "markdown",
   "metadata": {},
   "source": [
    "# Linear Regression Tutorial "
   ]
  },
  {
   "cell_type": "markdown",
   "metadata": {},
   "source": [
    "## What is Linear Regression??\n",
    "\n",
    "Linear Regression is a mathematical technique in which the input features(independent variables ) are mapped to the given \n",
    "outputs(dependent variable) using a linear mathematical function.This linear function is then used for predicting the outputs for given input features.Linear regression performs the task to predict a dependent variable value (y) based on a given independent variable (x)."
   ]
  },
  {
   "cell_type": "markdown",
   "metadata": {},
   "source": [
    "### Example\n",
    "\n",
    "We use features $\\mathbf{x}$ to predict a \"response\" $y$. For example we might want to map house_features onto house_price in other words we predict house_price from features of house.\n",
    "\n",
    "Let's generate some sklearn data for this case and examine the relationship between $\\mathbf{x}$(house_feature) and $y$(house_price)."
   ]
  },
  {
   "cell_type": "code",
   "execution_count": 26,
   "metadata": {},
   "outputs": [
    {
     "data": {
      "image/png": "[encoded data removed]",
      "text/plain": [
       "<Figure size 432x288 with 1 Axes>"
      ]
     },
     "metadata": {
      "needs_background": "light"
     },
     "output_type": "display_data"
    }
   ],
   "source": [
    "#Loading the data \n",
    "X , y = make_regression(n_samples=60,n_features=1,bias=1.0)\n",
    "plt.scatter(X, y)\n",
    "plt.xlabel('house_size')\n",
    "plt.ylabel('house_price')\n",
    "plt.show()"
   ]
  },
  {
   "cell_type": "markdown",
   "metadata": {},
   "source": [
    "On Analyzing above scatter plot  we suspect that a linear line is the best fit for the data points.\n",
    "We will now build a linear model to fit this data"
   ]
  },
  {
   "cell_type": "markdown",
   "metadata": {},
   "source": [
    "### Linear Model\n",
    "To describe the supervised learning problem slightly more formally, our goal is, given a training set, to learn a function h : X → Y so that h(x) is a “good” predictor for the corresponding value of y. This function h is called a hypothesis. Seen pictorially, the process is therefore like this:\n",
    "  \n",
    "<img src = \"https://d3c33hcgiwev3.cloudfront.net/imageAssetProxy.v1/H6qTdZmYEeaagxL7xdFKxA_2f0f671110e8f7446bb2b5b2f75a8874_Screenshot-2016-10-23-20.14.58.png?expiry=1602892800000&hmac=jrYdSIhbIq99eNTy71m1cMRII3sZ8-MB3ArBkNUh8Bo\">\n",
    "\n",
    "### Hypothesis:\n",
    "Hypothesis is the linear function that is used to fit the data points.We express this hypothesis in the univariate case as\n",
    "\n",
    " <img src = \"https://media.geeksforgeeks.org/wp-content/uploads/linear-regression-hypothesis.jpg\">\n",
    "\n",
    "Our simple example above was an example of \"univariate regression\" - i.e. just one variable (or \"feature\") - size of house.\n",
    "\n",
    "Here $\\theta_{2}$ is a vector of parameters to be learned, $\\theta_{1}$ is a bias term and $\\mathbf{X}$ is the \"design matrix\" with all the data points. In this formulation the intercept(bias) term is to be added to the design matrix as the first column (of all ones)."
   ]
  },
  {
   "cell_type": "markdown",
   "metadata": {},
   "source": [
    "### Design Matrix\n",
    "\n",
    "In general with $n$ data points and $p$ features our design matrix will have $n$ rows and $p$ columns.\n",
    "\n",
    "Returning to our housing prediction  regression example, let's add one more feature - number of hours slept the night before the exam. If we have 60 data points and 1 features, then our matrix will be of shape $60 \\times 2$ (remember we add a bias column). The first three rows  might look like\n",
    "\n",
    "$$\n",
    "\\begin{bmatrix}\n",
    "    1 & -0.85857665  \\\\\n",
    "    1 & -1.98210646  \\\\\n",
    "    1 &    0.18146281  \\\\\n",
    "\\end{bmatrix}\n",
    "$$\n",
    "We do not include the y values in the design matrix"
   ]
  },
  {
   "cell_type": "markdown",
   "metadata": {},
   "source": [
    "### Cost function\n",
    "We can measure the accuracy of our hypothesis function by using a <b>cost function</b>,this function is otherwise called the \"Squared error function\". This takes an average difference (actually a fancier version of an average) of all the results of the hypothesis with inputs from x's and the actual output y's.The mean is halved  as a convenience for the computation of the gradient descent, as the derivative term of the square function will cancel out the fraction term. \n",
    "\n",
    "$$J(\\theta{}) = \\frac{1}{2}\\sum(h(\\theta)-y)^2$$\n",
    "\n",
    "If we try to think of it in visual terms, our training data set is scattered on the x-y plane. We are trying to make a straight line (defined by hypothesis y) which passes through these scattered data points.\n",
    "Our objective is to get the best possible line. The best possible line will be such so that the average squared vertical distances of the scattered points from the line will be the least. Ideally, the line should pass through all the points of our training data set. In such a case, the value of cost function would be 0.The following image summarizes what the cost function does\n",
    "\n",
    "<img src = \"https://d3c33hcgiwev3.cloudfront.net/imageAssetProxy.v1/R2YF5Lj3EeajLxLfjQiSjg_110c901f58043f995a35b31431935290_Screen-Shot-2016-12-02-at-5.23.31-PM.png?expiry=1602892800000&hmac=yNTjY-fg0T8YgEZxlkHTXV5xjGEk7aZ3YAP-RrH-i18\">"
   ]
  }
 ],
 "metadata": {
  "kernelspec": {
   "display_name": "Python 3",
   "language": "python",
   "name": "python3"
  },
  "language_info": {
   "codemirror_mode": {
    "name": "ipython",
    "version": 3
   },
   "file_extension": ".py",
   "mimetype": "text/x-python",
   "name": "python",
   "nbconvert_exporter": "python",
   "pygments_lexer": "ipython3",
   "version": "3.8.3"
  }
 },
 "nbformat": 4,
 "nbformat_minor": 4
}
